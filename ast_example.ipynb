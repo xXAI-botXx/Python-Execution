{
 "cells": [
  {
   "cell_type": "markdown",
   "metadata": {},
   "source": [
    "---\n",
    "## **A**bstract **S**yntax **T**ree\n",
    "---\n",
    "### Load Modules"
   ]
  },
  {
   "cell_type": "markdown",
   "metadata": {},
   "source": [
    "Benötigt:\n",
    "1. [Installiere Graphviz](https://graphviz.gitlab.io/_pages/Download/Download_windows.html)\n",
    "2. pip install showast"
   ]
  },
  {
   "cell_type": "code",
   "execution_count": null,
   "metadata": {},
   "outputs": [],
   "source": [
    "import showast\n",
    "import ast"
   ]
  },
  {
   "cell_type": "markdown",
   "metadata": {},
   "source": [
    "---\n",
    "### Execute Python-Code in String\n",
    "- ast.parse &nbsp;-> transforms a str in an AST <br>\n",
    "- ast.dump &nbsp;-> makes an AST-Object readable<br>\n",
    "- compile   &nbsp;&nbsp;-> Transforms an AST to Byte-Code (also can compile a str)\n",
    "    - returns a Code-Object which can executed by eval or exec\n",
    "    - mode:\n",
    "        - eval - accepts only a single expression.\n",
    "        - exec - It can take a code block that has Python statements, class and functions, and so on."
   ]
  },
  {
   "cell_type": "code",
   "execution_count": null,
   "metadata": {},
   "outputs": [],
   "source": [
    "expression = '1+2'\n",
    "ast_code = ast.parse(expression, mode='eval')\n",
    "\n",
    "print(eval(compile(ast_code, '', mode='eval')))\n",
    "print(ast.dump(ast_code))\n",
    "print(ast_code)"
   ]
  },
  {
   "cell_type": "code",
   "execution_count": null,
   "metadata": {},
   "outputs": [],
   "source": [
    "command = 'v = 1+2'\n",
    "code = ast.parse(command)\n",
    "\n",
    "exec(compile(code, '', mode='exec'))\n",
    "\n",
    "print(v)\n",
    "print(ast.dump(code))\n",
    "print(code)"
   ]
  },
  {
   "cell_type": "markdown",
   "metadata": {},
   "source": [
    "---\n",
    "### Use AST with Environments"
   ]
  },
  {
   "cell_type": "code",
   "execution_count": null,
   "metadata": {},
   "outputs": [],
   "source": [
    "code = \"\"\"\n",
    "message = 'moinselchen'\n",
    "pi = 3.14\n",
    "\"\"\"\n",
    "\n",
    "ast_code = ast.parse(code)\n",
    "\n",
    "compiled_code = compile(ast_code, filename='', mode='exec')\n",
    "# will also work:\n",
    "# compiled_code = compile(code, filename='', mode='exec')\n",
    "\n",
    "compiled_code"
   ]
  },
  {
   "cell_type": "code",
   "execution_count": null,
   "metadata": {},
   "outputs": [],
   "source": [
    "env = {}\n",
    "exec(compiled_code, env)\n",
    "\n",
    "env['message'], env['pi']"
   ]
  },
  {
   "cell_type": "markdown",
   "metadata": {},
   "source": [
    "---\n",
    "### Show AST"
   ]
  },
  {
   "cell_type": "code",
   "execution_count": null,
   "metadata": {},
   "outputs": [],
   "source": [
    "%%showast\n",
    "print(\"Hello World!\")"
   ]
  },
  {
   "cell_type": "code",
   "execution_count": null,
   "metadata": {},
   "outputs": [],
   "source": [
    "%%showast\n",
    "x = 1 + 2"
   ]
  },
  {
   "cell_type": "code",
   "execution_count": null,
   "metadata": {},
   "outputs": [],
   "source": [
    "def polite_message():\n",
    "    print(\"Moin moin Freunde des Programmierens!\")\n",
    "\n",
    "showast.show_source(polite_message)"
   ]
  },
  {
   "cell_type": "markdown",
   "metadata": {},
   "source": [
    "---"
   ]
  }
 ],
 "metadata": {
  "interpreter": {
   "hash": "96a5d84734c2fcc0f1c4e29111ed2080412c48bc33f767562c76143427b08200"
  },
  "kernelspec": {
   "display_name": "Python 3.9.1 64-bit",
   "language": "python",
   "name": "python3"
  },
  "language_info": {
   "codemirror_mode": {
    "name": "ipython",
    "version": 3
   },
   "file_extension": ".py",
   "mimetype": "text/x-python",
   "name": "python",
   "nbconvert_exporter": "python",
   "pygments_lexer": "ipython3",
   "version": "3.9.1"
  },
  "orig_nbformat": 4
 },
 "nbformat": 4,
 "nbformat_minor": 2
}
