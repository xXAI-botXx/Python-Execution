{
 "cells": [
  {
   "cell_type": "markdown",
   "metadata": {},
   "source": [
    "---\n",
    "## **A**bstract **S**yntax **T**ree\n",
    "by Tobia Ippolito\n",
    "\n",
    "---\n",
    "### **Table of Contents**\n",
    "- [Load Modules](#0.0)\n",
    "- [Execute String as Python-Code](#1.0)\n",
    "- [Use AST with Enviroments](#2.0)\n",
    "- [Analysis with the AST](#3.0)\n",
    "- [Show AST](#4.0)\n",
    "<br>\n",
    "<br>\n",
    "---\n",
    "### <a name=\"0.0\">Load Modules</a>"
   ]
  },
  {
   "cell_type": "markdown",
   "metadata": {},
   "source": [
    "Benötigt:\n",
    "1. [Installiere Graphviz](https://graphviz.gitlab.io/_pages/Download/Download_windows.html)\n",
    "2. pip install showast\n",
    "3. (pip install matplotlib)"
   ]
  },
  {
   "cell_type": "code",
   "execution_count": 192,
   "metadata": {},
   "outputs": [],
   "source": [
    "import showast\n",
    "import ast\n",
    "\n",
    "import matplotlib.pyplot as plt"
   ]
  },
  {
   "cell_type": "markdown",
   "metadata": {},
   "source": [
    "---\n",
    "### <a name=\"1.0\">Execute String as Python-Code</a>\n",
    "- ast.parse &nbsp;-> transforms a str in an AST <br>\n",
    "- ast.dump &nbsp;-> makes an AST-Object readable<br>\n",
    "- compile   &nbsp;&nbsp;-> Transforms an AST to Byte-Code (also can compile a str)\n",
    "    - returns a Code-Object which can executed by eval or exec\n",
    "    - mode:\n",
    "        - eval - accepts only a single expression.\n",
    "        - exec - It can take a code block that has Python statements, class and functions, and so on."
   ]
  },
  {
   "cell_type": "code",
   "execution_count": 166,
   "metadata": {},
   "outputs": [
    {
     "name": "stdout",
     "output_type": "stream",
     "text": [
      "3\n",
      "Expression(body=BinOp(left=Constant(value=1), op=Add(), right=Constant(value=2)))\n",
      "<ast.Expression object at 0x000002748E433BB0>\n"
     ]
    }
   ],
   "source": [
    "expression = '1+2'\n",
    "ast_code = ast.parse(expression, mode='eval')\n",
    "\n",
    "print(eval(compile(ast_code, '', mode='eval')))\n",
    "print(ast.dump(ast_code))\n",
    "print(ast_code)"
   ]
  },
  {
   "cell_type": "code",
   "execution_count": 167,
   "metadata": {},
   "outputs": [
    {
     "name": "stdout",
     "output_type": "stream",
     "text": [
      "3\n",
      "Module(body=[Assign(targets=[Name(id='v', ctx=Store())], value=BinOp(left=Constant(value=1), op=Add(), right=Constant(value=2)))], type_ignores=[])\n",
      "<ast.Module object at 0x000002748F2510A0>\n"
     ]
    }
   ],
   "source": [
    "command = 'v = 1+2'\n",
    "code = ast.parse(command)\n",
    "\n",
    "exec(compile(code, '', mode='exec'))\n",
    "\n",
    "print(v)\n",
    "print(ast.dump(code))\n",
    "print(code)"
   ]
  },
  {
   "cell_type": "markdown",
   "metadata": {},
   "source": [
    "---\n",
    "### <a name=\"2.0\">Use AST with Environments"
   ]
  },
  {
   "cell_type": "code",
   "execution_count": 168,
   "metadata": {},
   "outputs": [
    {
     "data": {
      "text/plain": [
       "<code object <module> at 0x000002748F1E2BE0, file \"\", line 2>"
      ]
     },
     "execution_count": 168,
     "metadata": {},
     "output_type": "execute_result"
    }
   ],
   "source": [
    "code = \"\"\"\n",
    "message = 'moinselchen'\n",
    "pi = 3.14\n",
    "\"\"\"\n",
    "\n",
    "ast_code = ast.parse(code)\n",
    "\n",
    "compiled_code = compile(ast_code, filename='', mode='exec')\n",
    "# will also work:\n",
    "# compiled_code = compile(code, filename='', mode='exec')\n",
    "\n",
    "compiled_code"
   ]
  },
  {
   "cell_type": "code",
   "execution_count": 169,
   "metadata": {},
   "outputs": [
    {
     "data": {
      "text/plain": [
       "('moinselchen', 3.14)"
      ]
     },
     "execution_count": 169,
     "metadata": {},
     "output_type": "execute_result"
    }
   ],
   "source": [
    "env = {}\n",
    "exec(compiled_code, env)\n",
    "\n",
    "env['message'], env['pi']"
   ]
  },
  {
   "cell_type": "markdown",
   "metadata": {},
   "source": [
    "---\n",
    "### <a name=\"3.0\">Analysis with the AST</a>\n",
    "Use Nodes of the AST to analyse the Python-Code."
   ]
  },
  {
   "cell_type": "code",
   "execution_count": 193,
   "metadata": {},
   "outputs": [],
   "source": [
    "def load_code(path_to_file:str) -> ast.AST:\n",
    "    #filename = \n",
    "    with open(path_to_file) as f:\n",
    "        tree = ast.parse(f.read(), filename=path_to_file)\n",
    "\n",
    "    return ast.parse(tree, filename=path_to_file, mode='exec')\n",
    "\n",
    "\n",
    "def analyse_calls(tree, should_print=False) -> dict:\n",
    "    calls = dict()\n",
    "    for node in ast.walk(tree):\n",
    "        if isinstance(node, ast.Call):\n",
    "            call = node.func\n",
    "            while True:\n",
    "                if isinstance(call, ast.Attribute):\n",
    "                    if type(call.value) == ast.Name and call.attr != None and len(call.attr) > 0:\n",
    "                        call = f\"{call.value.id}.{call.attr}\"\n",
    "                        break\n",
    "                    call = call.value\n",
    "                elif isinstance(call, ast.Call):\n",
    "                    call = call.func\n",
    "                elif isinstance(call, ast.Name):\n",
    "                    call = call.id\n",
    "                    break\n",
    "\n",
    "            if call in calls.keys():\n",
    "                calls[call] += 1\n",
    "            else:\n",
    "                calls[call] = 1\n",
    "\n",
    "    if should_print:\n",
    "        ordered_calls = sorted(calls.items(), key=lambda x: x[1], reverse=True)\n",
    "        print(\"-------------------------------------\")\n",
    "        print(\"--------  Analysis of Calls  --------\")\n",
    "        print(\"-------------------------------------\")\n",
    "        print(f\"There are {sum(calls.values())} calls.\\n\")\n",
    "        for i, x in enumerate(ordered_calls):\n",
    "            print(f\"{x[1]}x {x[0]}\")    # {i+1:02d}\n",
    "        print(\"\")\n",
    "\n",
    "    return calls\n",
    "\n",
    "\n",
    "def analyse_imports(tree, should_print=False) -> list:\n",
    "    imports = []\n",
    "    for node in ast.walk(tree):\n",
    "        if isinstance(node, ast.Import):\n",
    "            for name in node.names:\n",
    "                imports += [f\"{name.name}\"]\n",
    "        elif isinstance(node, ast.ImportFrom):\n",
    "            for name in node.names:\n",
    "                imports += [f\"{node.module}.{name.name}\"]\n",
    "\n",
    "    if should_print:\n",
    "        ordered_imports = sorted(imports, key=lambda x: x, reverse=False)\n",
    "        print(\"-------------------------------------\")\n",
    "        print(\"-------  Analysis of Imports  -------\")\n",
    "        print(\"-------------------------------------\")\n",
    "        for i, x in enumerate(ordered_imports):\n",
    "            print(f\"- {x}\")\n",
    "        print(\"\")\n",
    "\n",
    "    return imports\n",
    "\n",
    "\n",
    "def analyse_definitions(tree, should_print=False) -> None:\n",
    "    defs = []\n",
    "    lambdas = 0\n",
    "    classes = []\n",
    "    returns = 0\n",
    "    yields = 0\n",
    "    globals = 0\n",
    "    nonlocals = 0\n",
    "\n",
    "    for node in ast.walk(tree):\n",
    "        if isinstance(node, ast.FunctionDef):\n",
    "            defs += [node.name]\n",
    "        elif isinstance(node, ast.Lambda):\n",
    "            lambdas += 1\n",
    "        elif isinstance(node, ast.ClassDef):\n",
    "            classes += [node.name]\n",
    "        elif isinstance(node, ast.Return):\n",
    "            returns += 1\n",
    "        elif isinstance(node, ast.Yield):\n",
    "            yields += 1\n",
    "        elif isinstance(node, ast.Global):\n",
    "            globals += 1\n",
    "        elif isinstance(node, ast.Nonlocal):\n",
    "            nonlocals += 1\n",
    "\n",
    "    if should_print:\n",
    "        print(\"-------------------------------------\")\n",
    "        print(\"-----  Analysis of Definitions  -----\")\n",
    "        print(\"-------------------------------------\")\n",
    "        print(f\"- Defined Functions ({len(defs)}):\")\n",
    "        for x in defs:\n",
    "            print(f\"    - {x}\")\n",
    "        print(f\"\\n- Defined Classes ({len(classes)}):\")\n",
    "        for x in classes:\n",
    "            print(f\"    - {x}\")\n",
    "        print(f\"\\n- Lambda Functions: {lambdas}\")\n",
    "        print(f\"\\n- Returns: {returns}\")\n",
    "        print(f\"\\n- Yields: {yields}\")\n",
    "        print(f\"\\n- global Keywords: {globals}\")\n",
    "        print(f\"\\n- nonlocal Keywords: {nonlocals}\")\n",
    "        print(\"\")\n",
    "\n",
    "    return None\n",
    "\n",
    "\n",
    "# Control Flow\n",
    "def analyse_structures(tree, should_print=False) -> None:\n",
    "    ifs = 0\n",
    "    fors = 0\n",
    "    whiles = 0\n",
    "    breaks = 0\n",
    "    continues = 0\n",
    "    tries = 0\n",
    "    withs = 0\n",
    "\n",
    "    for node in ast.walk(tree):\n",
    "        if isinstance(node, ast.If):\n",
    "            ifs += 1\n",
    "        elif isinstance(node, ast.For):\n",
    "            fors += 1\n",
    "        elif isinstance(node, ast.While):\n",
    "            whiles += 1\n",
    "        elif isinstance(node, ast.Break):\n",
    "            breaks += 1\n",
    "        elif isinstance(node, ast.Continue):\n",
    "            continues += 1\n",
    "        elif isinstance(node, ast.Try):\n",
    "            tries += 1\n",
    "        elif isinstance(node, ast.With):\n",
    "            withs += 1\n",
    "\n",
    "    if should_print:\n",
    "        print(\"-------------------------------------\")\n",
    "        print(\"-----  Analysis of Structures  ------\")\n",
    "        print(\"-------------------------------------\")\n",
    "        print(f\"- Defined loops ({fors+whiles}):\")\n",
    "        print(f\"    - For-Loops: {fors}\")\n",
    "        print(f\"    - While-Loops: {whiles}\")\n",
    "        print(f\"\\n- Break's: {breaks}\")\n",
    "        print(f\"\\n- Continue's: {continues}\")\n",
    "        print(f\"\\n- If-Statements: {ifs}\")\n",
    "        print(f\"\\n- Try-Blocks: {tries}\")\n",
    "        print(f\"\\n- With-Blocks: {withs}\")\n",
    "        print(\"\")\n",
    "\n",
    "    return None\n",
    "\n",
    "\n",
    "def analyse_operations(tree, should_print=False) -> list:\n",
    "    operations = 0\n",
    "    adds = 0\n",
    "    subs = 0\n",
    "    mults = 0\n",
    "    divs = 0\n",
    "    mods = 0\n",
    "    floor_divs = 0\n",
    "    pows = 0\n",
    "\n",
    "    bool_operations = 0\n",
    "    ands = 0\n",
    "    ors = 0\n",
    "    equals = 0\n",
    "    not_equals = 0\n",
    "    is_ = 0\n",
    "    is_not = 0\n",
    "    ins = 0\n",
    "    not_ins = 0\n",
    "    \n",
    "    for node in ast.walk(tree):\n",
    "\n",
    "        if isinstance(node, ast.BinOp):\n",
    "            operations += 1\n",
    "        elif isinstance(node, ast.BoolOp) or isinstance(node, ast.Compare):\n",
    "            bool_operations += 1\n",
    "\n",
    "        # OP's\n",
    "        if isinstance(node, ast.Add):\n",
    "            adds += 1\n",
    "        elif isinstance(node, ast.Sub):\n",
    "            subs += 1\n",
    "        elif isinstance(node, ast.Mult):\n",
    "            mults += 1\n",
    "        elif isinstance(node, ast.Div):\n",
    "            divs += 1\n",
    "        elif isinstance(node, ast.Mod):\n",
    "            mods += 1\n",
    "        elif isinstance(node, ast.FloorDiv):\n",
    "            floor_divs += 1\n",
    "        elif isinstance(node, ast.Pow):\n",
    "            pows += 1\n",
    "        # OP-BOOL's\n",
    "        elif isinstance(node, ast.And):\n",
    "            ands += 1\n",
    "        elif isinstance(node, ast.Or):\n",
    "            ors += 1\n",
    "        elif isinstance(node, ast.Eq):\n",
    "            equals += 1\n",
    "        elif isinstance(node, ast.NotEq):\n",
    "            not_equals += 1\n",
    "        elif isinstance(node, ast.Is):\n",
    "            is_ += 1\n",
    "        elif isinstance(node, ast.IsNot):\n",
    "            is_not += 1\n",
    "        elif isinstance(node, ast.In):\n",
    "            ins += 1\n",
    "        elif isinstance(node, ast.NotIn):\n",
    "            not_ins += 1\n",
    "\n",
    "    if should_print:\n",
    "        print(\"-------------------------------------\")\n",
    "        print(\"-----  Analysis of Operations  ------\")\n",
    "        print(\"-------------------------------------\")\n",
    "        print(f\"- Operations ({operations}):\")\n",
    "        print(f\"    - Add's: {adds}\")\n",
    "        print(f\"    - Sub's: {subs}\")\n",
    "        print(f\"    - Mult's: {mults}\")\n",
    "        print(f\"    - Div's: {divs}\")\n",
    "        print(f\"    - Mod's: {mods}\")\n",
    "        print(f\"    - Floor Div's: {floor_divs}\")\n",
    "        print(f\"    - Pow's: {pows}\")\n",
    "        print(f\"\\n- Bool Operations ({bool_operations}):\")\n",
    "        print(f\"    - And's: {ands}\")\n",
    "        print(f\"    - Or's: {ors}\")\n",
    "        print(f\"    - Equals's: {equals}\")\n",
    "        print(f\"    - Not Equals's: {not_equals}\")\n",
    "        print(f\"    - Is's: {is_}\")\n",
    "        print(f\"    - Is not's: {is_not}\")\n",
    "        print(f\"    - In's: {ins}\")\n",
    "        print(f\"    - Not In's: {not_ins}\")\n",
    "        print(\"\")\n",
    "\n",
    "    return [('Add', adds), ('Sub', subs), ('Mult', mults), ('Div', divs), ('Mod', mods), ('Floor Div', floor_divs), ('Pow', pows), \n",
    "            ('And', ands), ('Or', ors), ('Equal', equals), ('Not Equal', not_equals), ('Is', is_), ('Is Not', is_not), ('In', ins), ('Not In', not_ins)]"
   ]
  },
  {
   "cell_type": "code",
   "execution_count": 239,
   "metadata": {},
   "outputs": [],
   "source": [
    "def visualize(calls:dict, imports:list, ops:list):\n",
    "    plt.style.use('seaborn-whitegrid')\n",
    "    fig, ax = plt.subplots(2, 1, figsize=(20, 10))\n",
    "    \n",
    "    x = []\n",
    "    y = []\n",
    "    counter = 0\n",
    "    for name, value in sorted(calls.items(), key=lambda x: x[1], reverse=True):\n",
    "        if counter >= 10:\n",
    "            break\n",
    "        x += [name]\n",
    "        y += [value]\n",
    "        counter += 1\n",
    "\n",
    "    ax[0].set_title(\"Popular Function-Calls\")\n",
    "    ax[0].bar(x, y, align='center', width=0.5)\n",
    "\n",
    "    x = []\n",
    "    y = []\n",
    "    for name, value in ops:\n",
    "        x += [name]\n",
    "        y += [value]\n",
    "    ax[1].set_title(\"Operations\")\n",
    "    ax[1].bar(x, y)\n",
    "\n",
    "    plt.show()"
   ]
  },
  {
   "cell_type": "code",
   "execution_count": 197,
   "metadata": {},
   "outputs": [],
   "source": [
    "def analyse_code(path_to_file:str, should_print=False, should_visualize=False):\n",
    "    # Analysis\n",
    "    if should_print:\n",
    "        title = f\"    >>> Analysis of {path_to_file.split('/')[-1]} <<<    \"\n",
    "        print(\"_\"*len(title))\n",
    "        print(f\"{title}\\n\")\n",
    "    tree = load_code(path_to_file)\n",
    "    calls = analyse_calls(tree, should_print)\n",
    "    imports = analyse_imports(tree, should_print)\n",
    "    analyse_definitions(tree, should_print)\n",
    "    analyse_structures(tree, should_print)\n",
    "    operations = analyse_operations(tree, should_print)\n",
    "    if should_print:\n",
    "        print(f\"\\n{' '*(len(title)//2-11)}>>> END of Analysis <<<\")\n",
    "        print(\"_\"*len(title))\n",
    "\n",
    "    # Visualisation\n",
    "    if should_visualize:\n",
    "        visualize(calls, imports, operations)"
   ]
  },
  {
   "cell_type": "code",
   "execution_count": 240,
   "metadata": {},
   "outputs": [
    {
     "name": "stdout",
     "output_type": "stream",
     "text": [
      "_______________________________________\n",
      "    >>> Analysis of heapsort.py <<<    \n",
      "\n",
      "-------------------------------------\n",
      "--------  Analysis of Calls  --------\n",
      "-------------------------------------\n",
      "There are 25 calls.\n",
      "\n",
      "7x self.assertEqual\n",
      "6x heapifyFull\n",
      "5x heapify\n",
      "2x len\n",
      "2x range\n",
      "2x unittest.main\n",
      "1x self.allTestsForSortAlgorithm\n",
      "\n",
      "-------------------------------------\n",
      "-------  Analysis of Imports  -------\n",
      "-------------------------------------\n",
      "- SortTest\n",
      "- __future__.annotations\n",
      "- unittest\n",
      "\n",
      "-------------------------------------\n",
      "-----  Analysis of Definitions  -----\n",
      "-------------------------------------\n",
      "- Defined Functions (12):\n",
      "    - heapifyFull\n",
      "    - heapify\n",
      "    - sort\n",
      "    - swap\n",
      "    - testHeapSort\n",
      "    - testHeapify1\n",
      "    - testHeapify2\n",
      "    - testHeapify3\n",
      "    - testHeapify4\n",
      "    - testHeapify5\n",
      "    - testHeapify6\n",
      "    - testHeapify7\n",
      "\n",
      "- Defined Classes (1):\n",
      "    - HeapSortTest\n",
      "\n",
      "- Lambda Functions: 0\n",
      "\n",
      "- Returns: 1\n",
      "\n",
      "- Yields: 0\n",
      "\n",
      "- global Keywords: 0\n",
      "\n",
      "- nonlocal Keywords: 0\n",
      "\n",
      "-------------------------------------\n",
      "-----  Analysis of Structures  ------\n",
      "-------------------------------------\n",
      "- Defined loops (2):\n",
      "    - For-Loops: 2\n",
      "    - While-Loops: 0\n",
      "\n",
      "- Break's: 0\n",
      "\n",
      "- Continue's: 0\n",
      "\n",
      "- If-Statements: 10\n",
      "\n",
      "- Try-Blocks: 0\n",
      "\n",
      "- With-Blocks: 0\n",
      "\n",
      "-------------------------------------\n",
      "-----  Analysis of Operations  ------\n",
      "-------------------------------------\n",
      "- Operations (20):\n",
      "    - Add's: 8\n",
      "    - Sub's: 3\n",
      "    - Mult's: 8\n",
      "    - Div's: 0\n",
      "    - Mod's: 0\n",
      "    - Floor Div's: 1\n",
      "    - Pow's: 0\n",
      "\n",
      "- Bool Operations (18):\n",
      "    - And's: 4\n",
      "    - Or's: 0\n",
      "    - Equals's: 10\n",
      "    - Not Equals's: 0\n",
      "    - Is's: 0\n",
      "    - Is not's: 0\n",
      "    - In's: 0\n",
      "    - Not In's: 0\n",
      "\n",
      "\n",
      "        >>> END of Analysis <<<\n",
      "_______________________________________\n"
     ]
    },
    {
     "data": {
      "image/png": "[encoded data removed]",
      "text/plain": [
       "<Figure size 1440x720 with 2 Axes>"
      ]
     },
     "metadata": {},
     "output_type": "display_data"
    }
   ],
   "source": [
    "#analyse_code('./res/call_test.py', True)\n",
    "#analyse_code('./res/guess.py', True)\n",
    "#analyse_code('./res/ImmutableList.py', True, True)\n",
    "analyse_code('./res/heapsort.py', True, True)"
   ]
  },
  {
   "cell_type": "markdown",
   "metadata": {},
   "source": [
    "---\n",
    "### <a name=\"4.0\">Show AST</a>"
   ]
  },
  {
   "cell_type": "code",
   "execution_count": 173,
   "metadata": {},
   "outputs": [
    {
     "data": {
      "image/svg+xml": "<svg xmlns=\"http://www.w3.org/2000/svg\" xmlns:xlink=\"http://www.w3.org/1999/xlink\" width=\"304pt\" height=\"260pt\" viewBox=\"0.00 0.00 304.00 260.00\">\n<g id=\"graph0\" class=\"graph\" transform=\"scale(1 1) rotate(0) translate(4 256)\">\n<polygon fill=\"white\" stroke=\"transparent\" points=\"-4,4 -4,-256 300,-256 300,4 -4,4\"/>\n<!-- 0 -->\n<g id=\"node1\" class=\"node\">\n<title>0</title>\n<text text-anchor=\"start\" x=\"145\" y=\"-231.3\" font-family=\"Courier,monospace\" font-weight=\"bold\" font-size=\"14.00\" fill=\"#004080\">Expr</text>\n</g>\n<!-- 1 -->\n<g id=\"node2\" class=\"node\">\n<title>1</title>\n<text text-anchor=\"start\" x=\"145\" y=\"-159.3\" font-family=\"Courier,monospace\" font-weight=\"bold\" font-size=\"14.00\" fill=\"#004080\">Call</text>\n</g>\n<!-- 0&#45;&#45;1 -->\n<g id=\"edge1\" class=\"edge\">\n<title>0--1</title>\n<path fill=\"none\" stroke=\"black\" d=\"M162,-215.7C162,-204.85 162,-190.92 162,-180.1\"/>\n</g>\n<!-- 2 -->\n<g id=\"node3\" class=\"node\">\n<title>2</title>\n<text text-anchor=\"start\" x=\"102\" y=\"-87.3\" font-family=\"Courier,monospace\" font-weight=\"bold\" font-size=\"14.00\" fill=\"#004080\">Name</text>\n</g>\n<!-- 1&#45;&#45;2 -->\n<g id=\"edge2\" class=\"edge\">\n<title>1--2</title>\n<path fill=\"none\" stroke=\"black\" d=\"M163,-143C163,-143 146.24,-123.19 133.41,-108.03\"/>\n</g>\n<!-- 5 -->\n<g id=\"node6\" class=\"node\">\n<title>5</title>\n<text text-anchor=\"start\" x=\"184.5\" y=\"-87.3\" font-family=\"Courier,monospace\" font-weight=\"bold\" font-size=\"14.00\" fill=\"#004080\">Constant</text>\n</g>\n<!-- 1&#45;&#45;5 -->\n<g id=\"edge5\" class=\"edge\">\n<title>1--5</title>\n<path fill=\"none\" stroke=\"black\" d=\"M163,-143C163,-143 183.95,-123.19 199.99,-108.03\"/>\n</g>\n<!-- 3 -->\n<g id=\"node4\" class=\"node\">\n<title>3</title>\n<text text-anchor=\"middle\" x=\"37\" y=\"-14.3\" font-family=\"Courier,monospace\" font-size=\"14.00\" fill=\"#008040\">&quot;print&quot;</text>\n</g>\n<!-- 2&#45;&#45;3 -->\n<g id=\"edge3\" class=\"edge\">\n<title>2--3</title>\n<path fill=\"none\" stroke=\"black\" d=\"M111,-71C111,-71 82.81,-51.19 61.23,-36.03\"/>\n</g>\n<!-- 4 -->\n<g id=\"node5\" class=\"node\">\n<title>4</title>\n<text text-anchor=\"middle\" x=\"119\" y=\"-14.3\" font-family=\"Courier,monospace\" font-size=\"14.00\" fill=\"#008040\">Load</text>\n</g>\n<!-- 2&#45;&#45;4 -->\n<g id=\"edge4\" class=\"edge\">\n<title>2--4</title>\n<path fill=\"none\" stroke=\"black\" d=\"M111,-71C111,-71 114.05,-51.19 116.38,-36.03\"/>\n</g>\n<!-- 6 -->\n<g id=\"node7\" class=\"node\">\n<title>6</title>\n<text text-anchor=\"middle\" x=\"230\" y=\"-14.3\" font-family=\"Courier,monospace\" font-size=\"14.00\" fill=\"#008040\">&quot;Hello World!&quot;</text>\n</g>\n<!-- 5&#45;&#45;6 -->\n<g id=\"edge6\" class=\"edge\">\n<title>5--6</title>\n<path fill=\"none\" stroke=\"black\" d=\"M220.97,-71.7C222.83,-60.85 225.21,-46.92 227.07,-36.1\"/>\n</g>\n</g>\n</svg>",
      "text/plain": [
       "<IPython.core.display.SVG object>"
      ]
     },
     "metadata": {},
     "output_type": "display_data"
    }
   ],
   "source": [
    "%%showast\n",
    "print(\"Hello World!\")"
   ]
  },
  {
   "cell_type": "code",
   "execution_count": 174,
   "metadata": {},
   "outputs": [
    {
     "data": {
      "image/svg+xml": "<svg xmlns=\"http://www.w3.org/2000/svg\" xmlns:xlink=\"http://www.w3.org/1999/xlink\" width=\"414pt\" height=\"260pt\" viewBox=\"0.00 0.00 413.50 260.00\">\n<g id=\"graph0\" class=\"graph\" transform=\"scale(1 1) rotate(0) translate(4 256)\">\n<polygon fill=\"white\" stroke=\"transparent\" points=\"-4,4 -4,-256 409.5,-256 409.5,4 -4,4\"/>\n<!-- 0 -->\n<g id=\"node1\" class=\"node\">\n<title>0</title>\n<text text-anchor=\"start\" x=\"120\" y=\"-231.3\" font-family=\"Courier,monospace\" font-weight=\"bold\" font-size=\"14.00\" fill=\"#004080\">Assign</text>\n</g>\n<!-- 1 -->\n<g id=\"node2\" class=\"node\">\n<title>1</title>\n<text text-anchor=\"start\" x=\"84\" y=\"-159.3\" font-family=\"Courier,monospace\" font-weight=\"bold\" font-size=\"14.00\" fill=\"#004080\">Name</text>\n</g>\n<!-- 0&#45;&#45;1 -->\n<g id=\"edge1\" class=\"edge\">\n<title>0--1</title>\n<path fill=\"none\" stroke=\"black\" d=\"M148,-215C148,-215 130.1,-195.19 116.39,-180.03\"/>\n</g>\n<!-- 4 -->\n<g id=\"node5\" class=\"node\">\n<title>4</title>\n<text text-anchor=\"start\" x=\"212\" y=\"-159.3\" font-family=\"Courier,monospace\" font-weight=\"bold\" font-size=\"14.00\" fill=\"#004080\">BinOp</text>\n</g>\n<!-- 0&#45;&#45;4 -->\n<g id=\"edge4\" class=\"edge\">\n<title>0--4</title>\n<path fill=\"none\" stroke=\"black\" d=\"M148,-215C148,-215 180.38,-195.19 205.17,-180.03\"/>\n</g>\n<!-- 2 -->\n<g id=\"node3\" class=\"node\">\n<title>2</title>\n<text text-anchor=\"middle\" x=\"27\" y=\"-86.3\" font-family=\"Courier,monospace\" font-size=\"14.00\" fill=\"#008040\">&quot;x&quot;</text>\n</g>\n<!-- 1&#45;&#45;2 -->\n<g id=\"edge2\" class=\"edge\">\n<title>1--2</title>\n<path fill=\"none\" stroke=\"black\" d=\"M93,-143C93,-143 67.86,-123.19 48.61,-108.03\"/>\n</g>\n<!-- 3 -->\n<g id=\"node4\" class=\"node\">\n<title>3</title>\n<text text-anchor=\"middle\" x=\"101\" y=\"-86.3\" font-family=\"Courier,monospace\" font-size=\"14.00\" fill=\"#008040\">Store</text>\n</g>\n<!-- 1&#45;&#45;3 -->\n<g id=\"edge3\" class=\"edge\">\n<title>1--3</title>\n<path fill=\"none\" stroke=\"black\" d=\"M93,-143C93,-143 96.05,-123.19 98.38,-108.03\"/>\n</g>\n<!-- 5 -->\n<g id=\"node6\" class=\"node\">\n<title>5</title>\n<text text-anchor=\"start\" x=\"156.5\" y=\"-87.3\" font-family=\"Courier,monospace\" font-weight=\"bold\" font-size=\"14.00\" fill=\"#004080\">Constant</text>\n</g>\n<!-- 4&#45;&#45;5 -->\n<g id=\"edge5\" class=\"edge\">\n<title>4--5</title>\n<path fill=\"none\" stroke=\"black\" d=\"M240,-143C240,-143 220.95,-123.19 206.37,-108.03\"/>\n</g>\n<!-- 7 -->\n<g id=\"node8\" class=\"node\">\n<title>7</title>\n<text text-anchor=\"middle\" x=\"277\" y=\"-86.3\" font-family=\"Courier,monospace\" font-size=\"14.00\" fill=\"#008040\">Add</text>\n</g>\n<!-- 4&#45;&#45;7 -->\n<g id=\"edge7\" class=\"edge\">\n<title>4--7</title>\n<path fill=\"none\" stroke=\"black\" d=\"M240,-143C240,-143 254.09,-123.19 264.88,-108.03\"/>\n</g>\n<!-- 8 -->\n<g id=\"node9\" class=\"node\">\n<title>8</title>\n<text text-anchor=\"start\" x=\"330.5\" y=\"-87.3\" font-family=\"Courier,monospace\" font-weight=\"bold\" font-size=\"14.00\" fill=\"#004080\">Constant</text>\n</g>\n<!-- 4&#45;&#45;8 -->\n<g id=\"edge8\" class=\"edge\">\n<title>4--8</title>\n<path fill=\"none\" stroke=\"black\" d=\"M240,-143C240,-143 287.23,-123.19 323.4,-108.03\"/>\n</g>\n<!-- 6 -->\n<g id=\"node7\" class=\"node\">\n<title>6</title>\n<text text-anchor=\"middle\" x=\"190\" y=\"-14.3\" font-family=\"Courier,monospace\" font-size=\"14.00\" fill=\"#008040\">1</text>\n</g>\n<!-- 5&#45;&#45;6 -->\n<g id=\"edge6\" class=\"edge\">\n<title>5--6</title>\n<path fill=\"none\" stroke=\"black\" d=\"M190,-71.7C190,-60.85 190,-46.92 190,-36.1\"/>\n</g>\n<!-- 9 -->\n<g id=\"node10\" class=\"node\">\n<title>9</title>\n<text text-anchor=\"middle\" x=\"364\" y=\"-14.3\" font-family=\"Courier,monospace\" font-size=\"14.00\" fill=\"#008040\">2</text>\n</g>\n<!-- 8&#45;&#45;9 -->\n<g id=\"edge9\" class=\"edge\">\n<title>8--9</title>\n<path fill=\"none\" stroke=\"black\" d=\"M364,-71.7C364,-60.85 364,-46.92 364,-36.1\"/>\n</g>\n</g>\n</svg>",
      "text/plain": [
       "<IPython.core.display.SVG object>"
      ]
     },
     "metadata": {},
     "output_type": "display_data"
    }
   ],
   "source": [
    "%%showast\n",
    "x = 1 + 2"
   ]
  },
  {
   "cell_type": "code",
   "execution_count": 175,
   "metadata": {},
   "outputs": [
    {
     "data": {
      "image/svg+xml": "<svg xmlns=\"http://www.w3.org/2000/svg\" xmlns:xlink=\"http://www.w3.org/1999/xlink\" width=\"652pt\" height=\"332pt\" viewBox=\"0.00 0.00 651.50 332.00\">\n<g id=\"graph0\" class=\"graph\" transform=\"scale(1 1) rotate(0) translate(4 328)\">\n<polygon fill=\"white\" stroke=\"transparent\" points=\"-4,4 -4,-328 647.5,-328 647.5,4 -4,4\"/>\n<!-- 0 -->\n<g id=\"node1\" class=\"node\">\n<title>0</title>\n<text text-anchor=\"start\" x=\"167\" y=\"-303.3\" font-family=\"Courier,monospace\" font-weight=\"bold\" font-size=\"14.00\" fill=\"#004080\">FunctionDef</text>\n</g>\n<!-- 1 -->\n<g id=\"node2\" class=\"node\">\n<title>1</title>\n<text text-anchor=\"middle\" x=\"74.5\" y=\"-230.3\" font-family=\"Courier,monospace\" font-size=\"14.00\" fill=\"#008040\">&quot;polite_message&quot;</text>\n</g>\n<!-- 0&#45;&#45;1 -->\n<g id=\"edge1\" class=\"edge\">\n<title>0--1</title>\n<path fill=\"none\" stroke=\"black\" d=\"M211.5,-287C211.5,-287 159.31,-267.19 119.36,-252.03\"/>\n</g>\n<!-- 2 -->\n<g id=\"node3\" class=\"node\">\n<title>2</title>\n<text text-anchor=\"middle\" x=\"212.5\" y=\"-230.3\" font-family=\"Courier,monospace\" font-size=\"14.00\" fill=\"#008040\">arguments</text>\n</g>\n<!-- 0&#45;&#45;2 -->\n<g id=\"edge2\" class=\"edge\">\n<title>0--2</title>\n<path fill=\"none\" stroke=\"black\" d=\"M211.5,-287C211.5,-287 211.88,-267.19 212.17,-252.03\"/>\n</g>\n<!-- 3 -->\n<g id=\"node4\" class=\"node\">\n<title>3</title>\n<text text-anchor=\"start\" x=\"286.5\" y=\"-231.3\" font-family=\"Courier,monospace\" font-weight=\"bold\" font-size=\"14.00\" fill=\"#004080\">Expr</text>\n</g>\n<!-- 0&#45;&#45;3 -->\n<g id=\"edge3\" class=\"edge\">\n<title>0--3</title>\n<path fill=\"none\" stroke=\"black\" d=\"M211.5,-287C211.5,-287 249.26,-265.66 276.39,-250.32\"/>\n</g>\n<!-- 4 -->\n<g id=\"node5\" class=\"node\">\n<title>4</title>\n<text text-anchor=\"start\" x=\"286.5\" y=\"-159.3\" font-family=\"Courier,monospace\" font-weight=\"bold\" font-size=\"14.00\" fill=\"#004080\">Call</text>\n</g>\n<!-- 3&#45;&#45;4 -->\n<g id=\"edge4\" class=\"edge\">\n<title>3--4</title>\n<path fill=\"none\" stroke=\"black\" d=\"M303.5,-215.7C303.5,-204.85 303.5,-190.92 303.5,-180.1\"/>\n</g>\n<!-- 5 -->\n<g id=\"node6\" class=\"node\">\n<title>5</title>\n<text text-anchor=\"start\" x=\"243.5\" y=\"-87.3\" font-family=\"Courier,monospace\" font-weight=\"bold\" font-size=\"14.00\" fill=\"#004080\">Name</text>\n</g>\n<!-- 4&#45;&#45;5 -->\n<g id=\"edge5\" class=\"edge\">\n<title>4--5</title>\n<path fill=\"none\" stroke=\"black\" d=\"M307.5,-143C307.5,-143 289.6,-123.19 275.89,-108.03\"/>\n</g>\n<!-- 8 -->\n<g id=\"node9\" class=\"node\">\n<title>8</title>\n<text text-anchor=\"start\" x=\"377\" y=\"-87.3\" font-family=\"Courier,monospace\" font-weight=\"bold\" font-size=\"14.00\" fill=\"#004080\">Constant</text>\n</g>\n<!-- 4&#45;&#45;8 -->\n<g id=\"edge8\" class=\"edge\">\n<title>4--8</title>\n<path fill=\"none\" stroke=\"black\" d=\"M307.5,-143C307.5,-143 346.73,-123.19 376.77,-108.03\"/>\n</g>\n<!-- 6 -->\n<g id=\"node7\" class=\"node\">\n<title>6</title>\n<text text-anchor=\"middle\" x=\"178.5\" y=\"-14.3\" font-family=\"Courier,monospace\" font-size=\"14.00\" fill=\"#008040\">&quot;print&quot;</text>\n</g>\n<!-- 5&#45;&#45;6 -->\n<g id=\"edge6\" class=\"edge\">\n<title>5--6</title>\n<path fill=\"none\" stroke=\"black\" d=\"M252.5,-71C252.5,-71 224.31,-51.19 202.73,-36.03\"/>\n</g>\n<!-- 7 -->\n<g id=\"node8\" class=\"node\">\n<title>7</title>\n<text text-anchor=\"middle\" x=\"260.5\" y=\"-14.3\" font-family=\"Courier,monospace\" font-size=\"14.00\" fill=\"#008040\">Load</text>\n</g>\n<!-- 5&#45;&#45;7 -->\n<g id=\"edge7\" class=\"edge\">\n<title>5--7</title>\n<path fill=\"none\" stroke=\"black\" d=\"M252.5,-71C252.5,-71 255.55,-51.19 257.88,-36.03\"/>\n</g>\n<!-- 9 -->\n<g id=\"node10\" class=\"node\">\n<title>9</title>\n<text text-anchor=\"middle\" x=\"474.5\" y=\"-14.3\" font-family=\"Courier,monospace\" font-size=\"14.00\" fill=\"#008040\">&quot;Moin moin Freunde des Programmierens!&quot;</text>\n</g>\n<!-- 8&#45;&#45;9 -->\n<g id=\"edge9\" class=\"edge\">\n<title>8--9</title>\n<path fill=\"none\" stroke=\"black\" d=\"M426.32,-71.7C436.24,-60.85 448.98,-46.92 458.86,-36.1\"/>\n</g>\n</g>\n</svg>",
      "text/plain": [
       "<IPython.core.display.SVG object>"
      ]
     },
     "metadata": {},
     "output_type": "display_data"
    }
   ],
   "source": [
    "def polite_message():\n",
    "    print(\"Moin moin Freunde des Programmierens!\")\n",
    "\n",
    "showast.show_source(polite_message)"
   ]
  },
  {
   "cell_type": "markdown",
   "metadata": {},
   "source": [
    "---"
   ]
  }
 ],
 "metadata": {
  "interpreter": {
   "hash": "96a5d84734c2fcc0f1c4e29111ed2080412c48bc33f767562c76143427b08200"
  },
  "kernelspec": {
   "display_name": "Python 3.9.1 64-bit",
   "language": "python",
   "name": "python3"
  },
  "language_info": {
   "codemirror_mode": {
    "name": "ipython",
    "version": 3
   },
   "file_extension": ".py",
   "mimetype": "text/x-python",
   "name": "python",
   "nbconvert_exporter": "python",
   "pygments_lexer": "ipython3",
   "version": "3.9.1"
  },
  "orig_nbformat": 4
 },
 "nbformat": 4,
 "nbformat_minor": 2
}
